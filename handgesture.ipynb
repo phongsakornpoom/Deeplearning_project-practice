{
 "cells": [
  {
   "cell_type": "code",
   "execution_count": 105,
   "metadata": {},
   "outputs": [],
   "source": [
    "import keras\n",
    "import numpy as np\n",
    "import pandas as pd\n",
    "import matplotlib.pyplot as plt\n",
    "from keras.models import Sequential\n",
    "import h5py\n",
    "import cv2 as cv"
   ]
  },
  {
   "cell_type": "code",
   "execution_count": 76,
   "metadata": {},
   "outputs": [],
   "source": [
    "from keras.layers import Dense,Conv2D,MaxPool2D,Activation,Flatten\n",
    "from keras.optimizers import SGD"
   ]
  },
  {
   "cell_type": "code",
   "execution_count": 65,
   "metadata": {},
   "outputs": [],
   "source": [
    "train_set=h5py.File('train_signs.h5','r')\n",
    "test_set=h5py.File('test_signs.h5','r')"
   ]
  },
  {
   "cell_type": "code",
   "execution_count": 66,
   "metadata": {},
   "outputs": [
    {
     "data": {
      "text/plain": [
       "<KeysViewHDF5 ['list_classes', 'train_set_x', 'train_set_y']>"
      ]
     },
     "execution_count": 66,
     "metadata": {},
     "output_type": "execute_result"
    }
   ],
   "source": [
    "train_set.keys()"
   ]
  },
  {
   "cell_type": "code",
   "execution_count": 67,
   "metadata": {},
   "outputs": [
    {
     "data": {
      "text/plain": [
       "<KeysViewHDF5 ['list_classes', 'test_set_x', 'test_set_y']>"
      ]
     },
     "execution_count": 67,
     "metadata": {},
     "output_type": "execute_result"
    }
   ],
   "source": [
    "test_set.keys()"
   ]
  },
  {
   "cell_type": "code",
   "execution_count": 68,
   "metadata": {},
   "outputs": [],
   "source": [
    "X_train = np.array(train_set['train_set_x'])\n",
    "y_train = np.array(train_set['train_set_y'])\n",
    "X_test = np.array(test_set['test_set_x'])\n",
    "y_test=np.array(test_set['test_set_y'])"
   ]
  },
  {
   "cell_type": "code",
   "execution_count": 69,
   "metadata": {},
   "outputs": [
    {
     "data": {
      "text/plain": [
       "(1080, 64, 64, 3)"
      ]
     },
     "execution_count": 69,
     "metadata": {},
     "output_type": "execute_result"
    }
   ],
   "source": [
    "X_train.shape"
   ]
  },
  {
   "cell_type": "code",
   "execution_count": 70,
   "metadata": {},
   "outputs": [],
   "source": [
    "X_train=X_train/255\n",
    "X_test=X_test/255"
   ]
  },
  {
   "cell_type": "code",
   "execution_count": 71,
   "metadata": {},
   "outputs": [],
   "source": [
    "y_train=keras.utils.to_categorical(y_train)\n",
    "y_test=keras.utils.to_categorical(y_test)"
   ]
  },
  {
   "cell_type": "code",
   "execution_count": 72,
   "metadata": {
    "scrolled": true
   },
   "outputs": [
    {
     "data": {
      "text/plain": [
       "<matplotlib.image.AxesImage at 0x10bcb6765c8>"
      ]
     },
     "execution_count": 72,
     "metadata": {},
     "output_type": "execute_result"
    },
    {
     "data": {
      "image/png": "[encoded data removed]",
      "text/plain": [
       "<Figure size 432x288 with 1 Axes>"
      ]
     },
     "metadata": {
      "needs_background": "light"
     },
     "output_type": "display_data"
    }
   ],
   "source": [
    "plt.imshow(X_test[4])"
   ]
  },
  {
   "cell_type": "code",
   "execution_count": 93,
   "metadata": {
    "scrolled": true
   },
   "outputs": [],
   "source": [
    "model = Sequential()\n",
    "model.add(Conv2D(8,(4,4),padding='same'))\n",
    "model.add(Activation('relu'))\n",
    "model.add(MaxPool2D((8,8),strides=(8,8),padding='same'))\n",
    "model.add(Conv2D(16,(2,2),padding='same',strides=(1,1)))\n",
    "model.add(Activation('relu'))\n",
    "model.add(MaxPool2D((4,4),strides=(4,4),padding='same'))\n",
    "model.add(Flatten())\n",
    "model.add(Dense(6,))#6 output for softmax\n",
    "model.add(Activation('softmax'))"
   ]
  },
  {
   "cell_type": "code",
   "execution_count": 111,
   "metadata": {},
   "outputs": [
    {
     "name": "stdout",
     "output_type": "stream",
     "text": [
      "Model: \"sequential_11\"\n",
      "_________________________________________________________________\n",
      "Layer (type)                 Output Shape              Param #   \n",
      "=================================================================\n",
      "conv2d_8 (Conv2D)            (None, 64, 64, 8)         392       \n",
      "_________________________________________________________________\n",
      "activation_5 (Activation)    (None, 64, 64, 8)         0         \n",
      "_________________________________________________________________\n",
      "max_pooling2d_3 (MaxPooling2 (None, 8, 8, 8)           0         \n",
      "_________________________________________________________________\n",
      "conv2d_9 (Conv2D)            (None, 8, 8, 16)          528       \n",
      "_________________________________________________________________\n",
      "activation_6 (Activation)    (None, 8, 8, 16)          0         \n",
      "_________________________________________________________________\n",
      "max_pooling2d_4 (MaxPooling2 (None, 2, 2, 16)          0         \n",
      "_________________________________________________________________\n",
      "flatten_1 (Flatten)          (None, 64)                0         \n",
      "_________________________________________________________________\n",
      "dense_1 (Dense)              (None, 6)                 390       \n",
      "_________________________________________________________________\n",
      "activation_7 (Activation)    (None, 6)                 0         \n",
      "=================================================================\n",
      "Total params: 1,310\n",
      "Trainable params: 1,310\n",
      "Non-trainable params: 0\n",
      "_________________________________________________________________\n"
     ]
    }
   ],
   "source": [
    "model.summary()"
   ]
  },
  {
   "cell_type": "code",
   "execution_count": 97,
   "metadata": {},
   "outputs": [],
   "source": [
    "model.compile(optimizer='SGD',loss='categorical_crossentropy',metrics=['accuracy'])"
   ]
  },
  {
   "cell_type": "code",
   "execution_count": 131,
   "metadata": {},
   "outputs": [
    {
     "name": "stdout",
     "output_type": "stream",
     "text": [
      "Train on 1080 samples, validate on 120 samples\n",
      "Epoch 1/200\n",
      "1080/1080 [==============================] - 1s 722us/step - loss: 0.5703 - accuracy: 0.7769 - val_loss: 0.5819 - val_accuracy: 0.7417\n",
      "Epoch 2/200\n",
      "1080/1080 [==============================] - 1s 730us/step - loss: 0.5577 - accuracy: 0.7963 - val_loss: 0.5618 - val_accuracy: 0.7833\n",
      "Epoch 3/200\n",
      "1080/1080 [==============================] - 1s 733us/step - loss: 0.5790 - accuracy: 0.7889 - val_loss: 0.6545 - val_accuracy: 0.7417\n",
      "Epoch 4/200\n",
      "1080/1080 [==============================] - 1s 717us/step - loss: 0.5791 - accuracy: 0.7852 - val_loss: 0.5728 - val_accuracy: 0.7500\n",
      "Epoch 5/200\n",
      "1080/1080 [==============================] - 1s 735us/step - loss: 0.5309 - accuracy: 0.8093 - val_loss: 0.5946 - val_accuracy: 0.7500\n",
      "Epoch 6/200\n",
      "1080/1080 [==============================] - 1s 795us/step - loss: 0.5506 - accuracy: 0.7972 - val_loss: 0.6051 - val_accuracy: 0.7583\n",
      "Epoch 7/200\n",
      "1080/1080 [==============================] - 1s 813us/step - loss: 0.5708 - accuracy: 0.7815 - val_loss: 0.5837 - val_accuracy: 0.7417\n",
      "Epoch 8/200\n",
      "1080/1080 [==============================] - 1s 752us/step - loss: 0.5961 - accuracy: 0.7833 - val_loss: 0.5520 - val_accuracy: 0.7583\n",
      "Epoch 9/200\n",
      "1080/1080 [==============================] - 1s 740us/step - loss: 0.5364 - accuracy: 0.8083 - val_loss: 0.5486 - val_accuracy: 0.7750\n",
      "Epoch 10/200\n",
      "1080/1080 [==============================] - 1s 888us/step - loss: 0.5599 - accuracy: 0.8046 - val_loss: 0.6303 - val_accuracy: 0.7333\n",
      "Epoch 11/200\n",
      "1080/1080 [==============================] - 1s 983us/step - loss: 0.5250 - accuracy: 0.7972 - val_loss: 0.6664 - val_accuracy: 0.7083\n",
      "Epoch 12/200\n",
      "1080/1080 [==============================] - 1s 964us/step - loss: 0.5211 - accuracy: 0.8065 - val_loss: 0.6183 - val_accuracy: 0.7667\n",
      "Epoch 13/200\n",
      "1080/1080 [==============================] - 1s 891us/step - loss: 0.5358 - accuracy: 0.8019 - val_loss: 0.5724 - val_accuracy: 0.7917\n",
      "Epoch 14/200\n",
      "1080/1080 [==============================] - 1s 801us/step - loss: 0.5197 - accuracy: 0.8111 - val_loss: 0.5400 - val_accuracy: 0.8000\n",
      "Epoch 15/200\n",
      "1080/1080 [==============================] - 1s 737us/step - loss: 0.5122 - accuracy: 0.8074 - val_loss: 0.6225 - val_accuracy: 0.7417\n",
      "Epoch 16/200\n",
      "1080/1080 [==============================] - 1s 741us/step - loss: 0.5097 - accuracy: 0.8111 - val_loss: 0.7877 - val_accuracy: 0.6667\n",
      "Epoch 17/200\n",
      "1080/1080 [==============================] - 1s 783us/step - loss: 0.5233 - accuracy: 0.8120 - val_loss: 0.5317 - val_accuracy: 0.8000\n",
      "Epoch 18/200\n",
      "1080/1080 [==============================] - 1s 758us/step - loss: 0.5078 - accuracy: 0.8185 - val_loss: 0.5667 - val_accuracy: 0.7833\n",
      "Epoch 19/200\n",
      "1080/1080 [==============================] - 1s 742us/step - loss: 0.5229 - accuracy: 0.8074 - val_loss: 0.5739 - val_accuracy: 0.7750\n",
      "Epoch 20/200\n",
      "1080/1080 [==============================] - 1s 747us/step - loss: 0.4878 - accuracy: 0.8157 - val_loss: 0.5934 - val_accuracy: 0.8000\n",
      "Epoch 21/200\n",
      "1080/1080 [==============================] - 1s 746us/step - loss: 0.4931 - accuracy: 0.8148 - val_loss: 0.5829 - val_accuracy: 0.7583\n",
      "Epoch 22/200\n",
      "1080/1080 [==============================] - 1s 758us/step - loss: 0.4909 - accuracy: 0.8269 - val_loss: 0.5319 - val_accuracy: 0.7833\n",
      "Epoch 23/200\n",
      "1080/1080 [==============================] - 1s 752us/step - loss: 0.4876 - accuracy: 0.8185 - val_loss: 0.6065 - val_accuracy: 0.7667\n",
      "Epoch 24/200\n",
      "1080/1080 [==============================] - 1s 838us/step - loss: 0.4967 - accuracy: 0.8176 - val_loss: 0.5026 - val_accuracy: 0.8000\n",
      "Epoch 25/200\n",
      "1080/1080 [==============================] - 1s 846us/step - loss: 0.4749 - accuracy: 0.8324 - val_loss: 0.6416 - val_accuracy: 0.7167\n",
      "Epoch 26/200\n",
      "1080/1080 [==============================] - 1s 838us/step - loss: 0.4825 - accuracy: 0.8315 - val_loss: 0.6323 - val_accuracy: 0.7583\n",
      "Epoch 27/200\n",
      "1080/1080 [==============================] - 1s 758us/step - loss: 0.4759 - accuracy: 0.8315 - val_loss: 0.6240 - val_accuracy: 0.7333\n",
      "Epoch 28/200\n",
      "1080/1080 [==============================] - 1s 752us/step - loss: 0.4649 - accuracy: 0.8259 - val_loss: 0.5593 - val_accuracy: 0.7583\n",
      "Epoch 29/200\n",
      "1080/1080 [==============================] - 1s 759us/step - loss: 0.4601 - accuracy: 0.8324 - val_loss: 0.5642 - val_accuracy: 0.7833\n",
      "Epoch 30/200\n",
      "1080/1080 [==============================] - 1s 757us/step - loss: 0.4819 - accuracy: 0.8222 - val_loss: 0.7813 - val_accuracy: 0.7333\n",
      "Epoch 31/200\n",
      "1080/1080 [==============================] - 1s 764us/step - loss: 0.4688 - accuracy: 0.8278 - val_loss: 0.5024 - val_accuracy: 0.8167\n",
      "Epoch 32/200\n",
      "1080/1080 [==============================] - 1s 773us/step - loss: 0.4538 - accuracy: 0.8398 - val_loss: 0.5064 - val_accuracy: 0.8083\n",
      "Epoch 33/200\n",
      "1080/1080 [==============================] - 1s 765us/step - loss: 0.4482 - accuracy: 0.8444 - val_loss: 0.5405 - val_accuracy: 0.7667\n",
      "Epoch 34/200\n",
      "1080/1080 [==============================] - 1s 767us/step - loss: 0.4611 - accuracy: 0.8278 - val_loss: 0.5429 - val_accuracy: 0.7417\n",
      "Epoch 35/200\n",
      "1080/1080 [==============================] - 1s 778us/step - loss: 0.4450 - accuracy: 0.8407 - val_loss: 0.5459 - val_accuracy: 0.7833\n",
      "Epoch 36/200\n",
      "1080/1080 [==============================] - 1s 752us/step - loss: 0.4485 - accuracy: 0.8333 - val_loss: 0.5467 - val_accuracy: 0.7917\n",
      "Epoch 37/200\n",
      "1080/1080 [==============================] - 1s 744us/step - loss: 0.4534 - accuracy: 0.8324 - val_loss: 0.5015 - val_accuracy: 0.8250\n",
      "Epoch 38/200\n",
      "1080/1080 [==============================] - 1s 755us/step - loss: 0.4461 - accuracy: 0.8370 - val_loss: 0.5991 - val_accuracy: 0.7750\n",
      "Epoch 39/200\n",
      "1080/1080 [==============================] - 1s 747us/step - loss: 0.4533 - accuracy: 0.8343 - val_loss: 0.4722 - val_accuracy: 0.8083\n",
      "Epoch 40/200\n",
      "1080/1080 [==============================] - 1s 756us/step - loss: 0.4200 - accuracy: 0.8519 - val_loss: 0.4957 - val_accuracy: 0.8250\n",
      "Epoch 41/200\n",
      "1080/1080 [==============================] - 1s 861us/step - loss: 0.4381 - accuracy: 0.8389 - val_loss: 0.5455 - val_accuracy: 0.8083\n",
      "Epoch 42/200\n",
      "1080/1080 [==============================] - 1s 898us/step - loss: 0.4312 - accuracy: 0.8491 - val_loss: 0.6778 - val_accuracy: 0.7333\n",
      "Epoch 43/200\n",
      "1080/1080 [==============================] - 1s 931us/step - loss: 0.4283 - accuracy: 0.8454 - val_loss: 0.5190 - val_accuracy: 0.8083\n",
      "Epoch 44/200\n",
      "1080/1080 [==============================] - 1s 987us/step - loss: 0.4272 - accuracy: 0.8519 - val_loss: 0.5482 - val_accuracy: 0.7667\n",
      "Epoch 45/200\n",
      "1080/1080 [==============================] - 1s 922us/step - loss: 0.4199 - accuracy: 0.8500 - val_loss: 0.6464 - val_accuracy: 0.7417\n",
      "Epoch 46/200\n",
      "1080/1080 [==============================] - 1s 882us/step - loss: 0.4428 - accuracy: 0.8444 - val_loss: 0.5841 - val_accuracy: 0.8000\n",
      "Epoch 47/200\n",
      "1080/1080 [==============================] - 1s 994us/step - loss: 0.4223 - accuracy: 0.8352 - val_loss: 0.4609 - val_accuracy: 0.8333\n",
      "Epoch 48/200\n",
      "1080/1080 [==============================] - 1s 901us/step - loss: 0.4173 - accuracy: 0.8519 - val_loss: 0.4556 - val_accuracy: 0.8333\n",
      "Epoch 49/200\n",
      "1080/1080 [==============================] - 1s 910us/step - loss: 0.3911 - accuracy: 0.8620 - val_loss: 0.4760 - val_accuracy: 0.8250\n",
      "Epoch 50/200\n",
      "1080/1080 [==============================] - 1s 856us/step - loss: 0.4143 - accuracy: 0.8546 - val_loss: 0.5616 - val_accuracy: 0.7500\n",
      "Epoch 51/200\n",
      "1080/1080 [==============================] - 1s 787us/step - loss: 0.3881 - accuracy: 0.8639 - val_loss: 0.6085 - val_accuracy: 0.7917\n",
      "Epoch 52/200\n",
      "1080/1080 [==============================] - 1s 812us/step - loss: 0.3980 - accuracy: 0.8648 - val_loss: 0.4604 - val_accuracy: 0.8333\n",
      "Epoch 53/200\n",
      "1080/1080 [==============================] - 1s 799us/step - loss: 0.3993 - accuracy: 0.8648 - val_loss: 0.4830 - val_accuracy: 0.8250\n",
      "Epoch 54/200\n",
      "1080/1080 [==============================] - 1s 766us/step - loss: 0.3930 - accuracy: 0.8630 - val_loss: 0.4618 - val_accuracy: 0.8167\n",
      "Epoch 55/200\n",
      "1080/1080 [==============================] - 1s 839us/step - loss: 0.3855 - accuracy: 0.8630 - val_loss: 0.4556 - val_accuracy: 0.8500\n",
      "Epoch 56/200\n",
      "1080/1080 [==============================] - 1s 864us/step - loss: 0.4038 - accuracy: 0.8537 - val_loss: 0.4686 - val_accuracy: 0.8250\n",
      "Epoch 57/200\n",
      "1080/1080 [==============================] - 1s 808us/step - loss: 0.4011 - accuracy: 0.8546 - val_loss: 0.5577 - val_accuracy: 0.7833\n",
      "Epoch 58/200\n",
      "1080/1080 [==============================] - 1s 926us/step - loss: 0.3806 - accuracy: 0.8639 - val_loss: 0.5316 - val_accuracy: 0.8167\n",
      "Epoch 59/200\n",
      "1080/1080 [==============================] - 1s 953us/step - loss: 0.3996 - accuracy: 0.8417 - val_loss: 0.7960 - val_accuracy: 0.7000\n",
      "Epoch 60/200\n",
      "1080/1080 [==============================] - 1s 878us/step - loss: 0.4272 - accuracy: 0.8333 - val_loss: 0.4591 - val_accuracy: 0.8500\n",
      "Epoch 61/200\n",
      "1080/1080 [==============================] - 1s 899us/step - loss: 0.3641 - accuracy: 0.8759 - val_loss: 0.5683 - val_accuracy: 0.7833\n",
      "Epoch 62/200\n",
      "1080/1080 [==============================] - 1s 918us/step - loss: 0.3647 - accuracy: 0.8778 - val_loss: 0.4771 - val_accuracy: 0.7917\n",
      "Epoch 63/200\n",
      "1080/1080 [==============================] - 1s 956us/step - loss: 0.3741 - accuracy: 0.8769 - val_loss: 0.4782 - val_accuracy: 0.7917\n",
      "Epoch 64/200\n",
      "1080/1080 [==============================] - 1s 856us/step - loss: 0.3659 - accuracy: 0.8731 - val_loss: 0.5107 - val_accuracy: 0.7833\n",
      "Epoch 65/200\n",
      "1080/1080 [==============================] - 1s 929us/step - loss: 0.4133 - accuracy: 0.8574 - val_loss: 0.4679 - val_accuracy: 0.8083\n",
      "Epoch 66/200\n",
      "1080/1080 [==============================] - 1s 1ms/step - loss: 0.3802 - accuracy: 0.8667 - val_loss: 0.5960 - val_accuracy: 0.7583\n",
      "Epoch 67/200\n",
      "1080/1080 [==============================] - 1s 894us/step - loss: 0.3807 - accuracy: 0.8639 - val_loss: 0.4642 - val_accuracy: 0.8083\n",
      "Epoch 68/200\n",
      "1080/1080 [==============================] - 1s 862us/step - loss: 0.3617 - accuracy: 0.8602 - val_loss: 0.4360 - val_accuracy: 0.8333\n",
      "Epoch 69/200\n",
      "1080/1080 [==============================] - 1s 939us/step - loss: 0.3559 - accuracy: 0.8722 - val_loss: 0.4493 - val_accuracy: 0.8167\n",
      "Epoch 70/200\n",
      "1080/1080 [==============================] - 1s 839us/step - loss: 0.3552 - accuracy: 0.8778 - val_loss: 0.4468 - val_accuracy: 0.8167\n",
      "Epoch 71/200\n",
      "1080/1080 [==============================] - 1s 785us/step - loss: 0.3720 - accuracy: 0.8556 - val_loss: 0.4527 - val_accuracy: 0.8333\n",
      "Epoch 72/200\n",
      "1080/1080 [==============================] - 1s 758us/step - loss: 0.3494 - accuracy: 0.8769 - val_loss: 0.4507 - val_accuracy: 0.8333\n",
      "Epoch 73/200\n",
      "1080/1080 [==============================] - 1s 795us/step - loss: 0.3518 - accuracy: 0.8796 - val_loss: 0.4631 - val_accuracy: 0.8250\n",
      "Epoch 74/200\n",
      "1080/1080 [==============================] - 1s 780us/step - loss: 0.3590 - accuracy: 0.8648 - val_loss: 0.4155 - val_accuracy: 0.8333\n",
      "Epoch 75/200\n",
      "1080/1080 [==============================] - 1s 777us/step - loss: 0.3447 - accuracy: 0.8852 - val_loss: 0.6096 - val_accuracy: 0.7583\n",
      "Epoch 76/200\n",
      "1080/1080 [==============================] - 1s 753us/step - loss: 0.3592 - accuracy: 0.8657 - val_loss: 0.4940 - val_accuracy: 0.8167\n",
      "Epoch 77/200\n",
      "1080/1080 [==============================] - 1s 877us/step - loss: 0.3635 - accuracy: 0.8722 - val_loss: 0.5018 - val_accuracy: 0.8167\n",
      "Epoch 78/200\n",
      "1080/1080 [==============================] - 1s 975us/step - loss: 0.3418 - accuracy: 0.8861 - val_loss: 0.4817 - val_accuracy: 0.7917\n",
      "Epoch 79/200\n",
      "1080/1080 [==============================] - 1s 906us/step - loss: 0.3622 - accuracy: 0.8713 - val_loss: 0.4279 - val_accuracy: 0.8417\n",
      "Epoch 80/200\n",
      "1080/1080 [==============================] - 1s 821us/step - loss: 0.3447 - accuracy: 0.8796 - val_loss: 0.4703 - val_accuracy: 0.8167\n",
      "Epoch 81/200\n",
      "1080/1080 [==============================] - 1s 860us/step - loss: 0.3658 - accuracy: 0.8620 - val_loss: 0.7206 - val_accuracy: 0.7583\n",
      "Epoch 82/200\n",
      "1080/1080 [==============================] - 1s 956us/step - loss: 0.3364 - accuracy: 0.8806 - val_loss: 0.4192 - val_accuracy: 0.8417\n",
      "Epoch 83/200\n",
      "1080/1080 [==============================] - 1s 1ms/step - loss: 0.3494 - accuracy: 0.8769 - val_loss: 0.6264 - val_accuracy: 0.7667\n",
      "Epoch 84/200\n",
      "1080/1080 [==============================] - 1s 1ms/step - loss: 0.3307 - accuracy: 0.8843 - val_loss: 0.5133 - val_accuracy: 0.8083\n",
      "Epoch 85/200\n",
      "1080/1080 [==============================] - 1s 875us/step - loss: 0.3251 - accuracy: 0.8833 - val_loss: 0.4338 - val_accuracy: 0.8250\n",
      "Epoch 86/200\n",
      "1080/1080 [==============================] - 1s 873us/step - loss: 0.3550 - accuracy: 0.8796 - val_loss: 0.4087 - val_accuracy: 0.8417\n",
      "Epoch 87/200\n",
      "1080/1080 [==============================] - 1s 879us/step - loss: 0.3280 - accuracy: 0.8917 - val_loss: 0.4099 - val_accuracy: 0.8500\n",
      "Epoch 88/200\n",
      "1080/1080 [==============================] - 1s 890us/step - loss: 0.3260 - accuracy: 0.8824 - val_loss: 0.4325 - val_accuracy: 0.8333\n",
      "Epoch 89/200\n",
      "1080/1080 [==============================] - 1s 1ms/step - loss: 0.3349 - accuracy: 0.8824 - val_loss: 0.7732 - val_accuracy: 0.7000\n",
      "Epoch 90/200\n",
      "1080/1080 [==============================] - 1s 1ms/step - loss: 0.3356 - accuracy: 0.8787 - val_loss: 0.4896 - val_accuracy: 0.7833\n",
      "Epoch 91/200\n",
      "1080/1080 [==============================] - 1s 1ms/step - loss: 0.3860 - accuracy: 0.8519 - val_loss: 0.4011 - val_accuracy: 0.8333\n",
      "Epoch 92/200\n",
      "1080/1080 [==============================] - 1s 1ms/step - loss: 0.3067 - accuracy: 0.8944 - val_loss: 0.4228 - val_accuracy: 0.8500\n",
      "Epoch 93/200\n",
      "1080/1080 [==============================] - 1s 1ms/step - loss: 0.3248 - accuracy: 0.8843 - val_loss: 0.4671 - val_accuracy: 0.8167\n",
      "Epoch 94/200\n",
      "1080/1080 [==============================] - 1s 1ms/step - loss: 0.3115 - accuracy: 0.8917 - val_loss: 0.4306 - val_accuracy: 0.8333\n",
      "Epoch 95/200\n",
      "1080/1080 [==============================] - 1s 1ms/step - loss: 0.3409 - accuracy: 0.8722 - val_loss: 0.4262 - val_accuracy: 0.8583\n",
      "Epoch 96/200\n",
      "1080/1080 [==============================] - 1s 1ms/step - loss: 0.3069 - accuracy: 0.8944 - val_loss: 0.5142 - val_accuracy: 0.8000\n",
      "Epoch 97/200\n",
      "1080/1080 [==============================] - 1s 1ms/step - loss: 0.3222 - accuracy: 0.8815 - val_loss: 0.4850 - val_accuracy: 0.8250\n",
      "Epoch 98/200\n",
      "1080/1080 [==============================] - 1s 1ms/step - loss: 0.3083 - accuracy: 0.8981 - val_loss: 0.4120 - val_accuracy: 0.8500\n",
      "Epoch 99/200\n",
      "1080/1080 [==============================] - 1s 1ms/step - loss: 0.3005 - accuracy: 0.8926 - val_loss: 0.4304 - val_accuracy: 0.8333\n",
      "Epoch 100/200\n",
      "1080/1080 [==============================] - 1s 996us/step - loss: 0.2955 - accuracy: 0.9028 - val_loss: 0.4058 - val_accuracy: 0.8583\n",
      "Epoch 101/200\n",
      "1080/1080 [==============================] - 1s 1ms/step - loss: 0.2835 - accuracy: 0.9176 - val_loss: 0.4609 - val_accuracy: 0.7917\n",
      "Epoch 102/200\n",
      "1080/1080 [==============================] - 1s 1ms/step - loss: 0.3135 - accuracy: 0.8954 - val_loss: 0.4826 - val_accuracy: 0.8250\n",
      "Epoch 103/200\n",
      "1080/1080 [==============================] - 1s 1ms/step - loss: 0.2950 - accuracy: 0.8963 - val_loss: 0.4746 - val_accuracy: 0.8167\n",
      "Epoch 104/200\n",
      "1080/1080 [==============================] - 1s 1ms/step - loss: 0.3021 - accuracy: 0.8944 - val_loss: 0.4435 - val_accuracy: 0.8583\n",
      "Epoch 105/200\n",
      "1080/1080 [==============================] - 1s 1ms/step - loss: 0.2921 - accuracy: 0.8972 - val_loss: 0.4783 - val_accuracy: 0.8250\n",
      "Epoch 106/200\n",
      "1080/1080 [==============================] - 1s 1ms/step - loss: 0.2986 - accuracy: 0.9000 - val_loss: 0.4199 - val_accuracy: 0.8333\n",
      "Epoch 107/200\n",
      "1080/1080 [==============================] - 1s 1ms/step - loss: 0.3163 - accuracy: 0.8935 - val_loss: 0.5949 - val_accuracy: 0.7583\n",
      "Epoch 108/200\n",
      "1080/1080 [==============================] - 1s 1ms/step - loss: 0.2825 - accuracy: 0.9120 - val_loss: 0.4272 - val_accuracy: 0.8417\n",
      "Epoch 109/200\n",
      "1080/1080 [==============================] - 1s 1ms/step - loss: 0.2982 - accuracy: 0.8806 - val_loss: 0.5559 - val_accuracy: 0.8167\n",
      "Epoch 110/200\n",
      "1080/1080 [==============================] - 1s 1ms/step - loss: 0.2910 - accuracy: 0.8889 - val_loss: 0.4684 - val_accuracy: 0.8167\n",
      "Epoch 111/200\n",
      "1080/1080 [==============================] - 1s 1ms/step - loss: 0.2870 - accuracy: 0.8926 - val_loss: 0.4460 - val_accuracy: 0.8250\n"
     ]
    },
    {
     "name": "stdout",
     "output_type": "stream",
     "text": [
      "Epoch 112/200\n",
      "1080/1080 [==============================] - 1s 1ms/step - loss: 0.3037 - accuracy: 0.8796 - val_loss: 0.4125 - val_accuracy: 0.8583\n",
      "Epoch 113/200\n",
      "1080/1080 [==============================] - 1s 1ms/step - loss: 0.3117 - accuracy: 0.8880 - val_loss: 0.3844 - val_accuracy: 0.8500\n",
      "Epoch 114/200\n",
      "1080/1080 [==============================] - 1s 1ms/step - loss: 0.2689 - accuracy: 0.9139 - val_loss: 0.3879 - val_accuracy: 0.8417\n",
      "Epoch 115/200\n",
      "1080/1080 [==============================] - 1s 1ms/step - loss: 0.2800 - accuracy: 0.9009 - val_loss: 0.4106 - val_accuracy: 0.8500\n",
      "Epoch 116/200\n",
      "1080/1080 [==============================] - 1s 1ms/step - loss: 0.2744 - accuracy: 0.9065 - val_loss: 0.4679 - val_accuracy: 0.8083\n",
      "Epoch 117/200\n",
      "1080/1080 [==============================] - 1s 1ms/step - loss: 0.2728 - accuracy: 0.9056 - val_loss: 0.4936 - val_accuracy: 0.8083\n",
      "Epoch 118/200\n",
      "1080/1080 [==============================] - 1s 1ms/step - loss: 0.3442 - accuracy: 0.8713 - val_loss: 0.3868 - val_accuracy: 0.8750\n",
      "Epoch 119/200\n",
      "1080/1080 [==============================] - 1s 1ms/step - loss: 0.2589 - accuracy: 0.9093 - val_loss: 0.3728 - val_accuracy: 0.8500\n",
      "Epoch 120/200\n",
      "1080/1080 [==============================] - 1s 1ms/step - loss: 0.2773 - accuracy: 0.9019 - val_loss: 0.3999 - val_accuracy: 0.8583\n",
      "Epoch 121/200\n",
      "1080/1080 [==============================] - 1s 1ms/step - loss: 0.2849 - accuracy: 0.9009 - val_loss: 0.3946 - val_accuracy: 0.8417\n",
      "Epoch 122/200\n",
      "1080/1080 [==============================] - 1s 1ms/step - loss: 0.3333 - accuracy: 0.8806 - val_loss: 0.3982 - val_accuracy: 0.8250\n",
      "Epoch 123/200\n",
      "1080/1080 [==============================] - 1s 1ms/step - loss: 0.2570 - accuracy: 0.9120 - val_loss: 0.4172 - val_accuracy: 0.8500\n",
      "Epoch 124/200\n",
      "1080/1080 [==============================] - 1s 1ms/step - loss: 0.2837 - accuracy: 0.8898 - val_loss: 0.4910 - val_accuracy: 0.7917\n",
      "Epoch 125/200\n",
      "1080/1080 [==============================] - 1s 1ms/step - loss: 0.2747 - accuracy: 0.9074 - val_loss: 0.4710 - val_accuracy: 0.8083\n",
      "Epoch 126/200\n",
      "1080/1080 [==============================] - 1s 1ms/step - loss: 0.2879 - accuracy: 0.8963 - val_loss: 0.4364 - val_accuracy: 0.8167\n",
      "Epoch 127/200\n",
      "1080/1080 [==============================] - 1s 1ms/step - loss: 0.2826 - accuracy: 0.9009 - val_loss: 0.3746 - val_accuracy: 0.8500\n",
      "Epoch 128/200\n",
      "1080/1080 [==============================] - 1s 1ms/step - loss: 0.2529 - accuracy: 0.9130 - val_loss: 0.4157 - val_accuracy: 0.8333\n",
      "Epoch 129/200\n",
      "1080/1080 [==============================] - 1s 1ms/step - loss: 0.2527 - accuracy: 0.9065 - val_loss: 0.3877 - val_accuracy: 0.8417\n",
      "Epoch 130/200\n",
      "1080/1080 [==============================] - 1s 1ms/step - loss: 0.2436 - accuracy: 0.9176 - val_loss: 0.3736 - val_accuracy: 0.8667\n",
      "Epoch 131/200\n",
      "1080/1080 [==============================] - 1s 1ms/step - loss: 0.2394 - accuracy: 0.9204 - val_loss: 0.3767 - val_accuracy: 0.8417\n",
      "Epoch 132/200\n",
      "1080/1080 [==============================] - 1s 1ms/step - loss: 0.2592 - accuracy: 0.9046 - val_loss: 0.4348 - val_accuracy: 0.8250\n",
      "Epoch 133/200\n",
      "1080/1080 [==============================] - 1s 1ms/step - loss: 0.2830 - accuracy: 0.9056 - val_loss: 0.3622 - val_accuracy: 0.8583\n",
      "Epoch 134/200\n",
      "1080/1080 [==============================] - 1s 1ms/step - loss: 0.2416 - accuracy: 0.9213 - val_loss: 0.3910 - val_accuracy: 0.8667\n",
      "Epoch 135/200\n",
      "1080/1080 [==============================] - 1s 1ms/step - loss: 0.2879 - accuracy: 0.8917 - val_loss: 0.3676 - val_accuracy: 0.8667\n",
      "Epoch 136/200\n",
      "1080/1080 [==============================] - 1s 1ms/step - loss: 0.2376 - accuracy: 0.9250 - val_loss: 0.4096 - val_accuracy: 0.8500\n",
      "Epoch 137/200\n",
      "1080/1080 [==============================] - 1s 1ms/step - loss: 0.2583 - accuracy: 0.9139 - val_loss: 0.4560 - val_accuracy: 0.8167\n",
      "Epoch 138/200\n",
      "1080/1080 [==============================] - 1s 1ms/step - loss: 0.2615 - accuracy: 0.9000 - val_loss: 0.4447 - val_accuracy: 0.8333\n",
      "Epoch 139/200\n",
      "1080/1080 [==============================] - 1s 1ms/step - loss: 0.2341 - accuracy: 0.9222 - val_loss: 0.3879 - val_accuracy: 0.8500\n",
      "Epoch 140/200\n",
      "1080/1080 [==============================] - 1s 1ms/step - loss: 0.2561 - accuracy: 0.9139 - val_loss: 0.3859 - val_accuracy: 0.8500\n",
      "Epoch 141/200\n",
      "1080/1080 [==============================] - 1s 897us/step - loss: 0.2322 - accuracy: 0.9222 - val_loss: 0.3728 - val_accuracy: 0.8667\n",
      "Epoch 142/200\n",
      "1080/1080 [==============================] - 1s 942us/step - loss: 0.2695 - accuracy: 0.9037 - val_loss: 0.4071 - val_accuracy: 0.8333\n",
      "Epoch 143/200\n",
      "1080/1080 [==============================] - 1s 912us/step - loss: 0.2462 - accuracy: 0.9167 - val_loss: 0.3528 - val_accuracy: 0.8583\n",
      "Epoch 144/200\n",
      "1080/1080 [==============================] - 1s 855us/step - loss: 0.2274 - accuracy: 0.9278 - val_loss: 0.3837 - val_accuracy: 0.8500\n",
      "Epoch 145/200\n",
      "1080/1080 [==============================] - 1s 843us/step - loss: 0.2305 - accuracy: 0.9250 - val_loss: 0.5486 - val_accuracy: 0.8000\n",
      "Epoch 146/200\n",
      "1080/1080 [==============================] - 1s 886us/step - loss: 0.2497 - accuracy: 0.9102 - val_loss: 0.4650 - val_accuracy: 0.8083\n",
      "Epoch 147/200\n",
      "1080/1080 [==============================] - 1s 911us/step - loss: 0.2316 - accuracy: 0.9269 - val_loss: 0.4044 - val_accuracy: 0.8500\n",
      "Epoch 148/200\n",
      "1080/1080 [==============================] - 1s 992us/step - loss: 0.2496 - accuracy: 0.9093 - val_loss: 0.4142 - val_accuracy: 0.8417\n",
      "Epoch 149/200\n",
      "1080/1080 [==============================] - 1s 885us/step - loss: 0.2266 - accuracy: 0.9241 - val_loss: 0.4043 - val_accuracy: 0.8667\n",
      "Epoch 150/200\n",
      "1080/1080 [==============================] - 1s 902us/step - loss: 0.2441 - accuracy: 0.9130 - val_loss: 0.4097 - val_accuracy: 0.8417\n",
      "Epoch 151/200\n",
      "1080/1080 [==============================] - 1s 898us/step - loss: 0.2400 - accuracy: 0.9167 - val_loss: 0.3733 - val_accuracy: 0.8583\n",
      "Epoch 152/200\n",
      "1080/1080 [==============================] - 1s 903us/step - loss: 0.2355 - accuracy: 0.9231 - val_loss: 0.3830 - val_accuracy: 0.8667\n",
      "Epoch 153/200\n",
      "1080/1080 [==============================] - 1s 1ms/step - loss: 0.2182 - accuracy: 0.9231 - val_loss: 0.3674 - val_accuracy: 0.8667\n",
      "Epoch 154/200\n",
      "1080/1080 [==============================] - 1s 800us/step - loss: 0.2252 - accuracy: 0.9296 - val_loss: 0.4010 - val_accuracy: 0.8417\n",
      "Epoch 155/200\n",
      "1080/1080 [==============================] - 1s 769us/step - loss: 0.2219 - accuracy: 0.9278 - val_loss: 0.3495 - val_accuracy: 0.8667\n",
      "Epoch 156/200\n",
      "1080/1080 [==============================] - 1s 783us/step - loss: 0.2190 - accuracy: 0.9250 - val_loss: 0.4874 - val_accuracy: 0.7833\n",
      "Epoch 157/200\n",
      "1080/1080 [==============================] - 1s 854us/step - loss: 0.2234 - accuracy: 0.9269 - val_loss: 0.4854 - val_accuracy: 0.8333\n",
      "Epoch 158/200\n",
      "1080/1080 [==============================] - 1s 853us/step - loss: 0.2411 - accuracy: 0.9176 - val_loss: 0.3934 - val_accuracy: 0.8667\n",
      "Epoch 159/200\n",
      "1080/1080 [==============================] - 1s 871us/step - loss: 0.2129 - accuracy: 0.9287 - val_loss: 0.3836 - val_accuracy: 0.8500\n",
      "Epoch 160/200\n",
      "1080/1080 [==============================] - 1s 764us/step - loss: 0.2194 - accuracy: 0.9278 - val_loss: 0.3828 - val_accuracy: 0.8250\n",
      "Epoch 161/200\n",
      "1080/1080 [==============================] - 1s 885us/step - loss: 0.2287 - accuracy: 0.9185 - val_loss: 0.4535 - val_accuracy: 0.8000\n",
      "Epoch 162/200\n",
      "1080/1080 [==============================] - 1s 1ms/step - loss: 0.2167 - accuracy: 0.9315 - val_loss: 0.3914 - val_accuracy: 0.8333\n",
      "Epoch 163/200\n",
      "1080/1080 [==============================] - 1s 922us/step - loss: 0.2233 - accuracy: 0.9167 - val_loss: 0.3910 - val_accuracy: 0.8583\n",
      "Epoch 164/200\n",
      "1080/1080 [==============================] - 1s 876us/step - loss: 0.1974 - accuracy: 0.9370 - val_loss: 0.3633 - val_accuracy: 0.8583\n",
      "Epoch 165/200\n",
      "1080/1080 [==============================] - 1s 841us/step - loss: 0.2183 - accuracy: 0.9287 - val_loss: 0.5086 - val_accuracy: 0.8167\n",
      "Epoch 166/200\n",
      "1080/1080 [==============================] - 1s 879us/step - loss: 0.2240 - accuracy: 0.9296 - val_loss: 0.3669 - val_accuracy: 0.8833\n",
      "Epoch 167/200\n",
      "1080/1080 [==============================] - 1s 907us/step - loss: 0.1972 - accuracy: 0.9370 - val_loss: 0.3441 - val_accuracy: 0.8417\n",
      "Epoch 168/200\n",
      "1080/1080 [==============================] - 1s 844us/step - loss: 0.2055 - accuracy: 0.9306 - val_loss: 0.3647 - val_accuracy: 0.8667\n",
      "Epoch 169/200\n",
      "1080/1080 [==============================] - 1s 838us/step - loss: 0.2077 - accuracy: 0.9296 - val_loss: 0.3509 - val_accuracy: 0.9000\n",
      "Epoch 170/200\n",
      "1080/1080 [==============================] - 1s 856us/step - loss: 0.2148 - accuracy: 0.9250 - val_loss: 0.3399 - val_accuracy: 0.8833\n",
      "Epoch 171/200\n",
      "1080/1080 [==============================] - 1s 880us/step - loss: 0.1930 - accuracy: 0.9407 - val_loss: 0.3716 - val_accuracy: 0.8667\n",
      "Epoch 172/200\n",
      "1080/1080 [==============================] - 1s 874us/step - loss: 0.2075 - accuracy: 0.9333 - val_loss: 0.3583 - val_accuracy: 0.8583\n",
      "Epoch 173/200\n",
      "1080/1080 [==============================] - 1s 821us/step - loss: 0.1875 - accuracy: 0.9315 - val_loss: 0.3505 - val_accuracy: 0.8833\n",
      "Epoch 174/200\n",
      "1080/1080 [==============================] - 1s 787us/step - loss: 0.2421 - accuracy: 0.9083 - val_loss: 0.3566 - val_accuracy: 0.8583\n",
      "Epoch 175/200\n",
      "1080/1080 [==============================] - 1s 798us/step - loss: 0.2047 - accuracy: 0.9324 - val_loss: 0.3425 - val_accuracy: 0.8583\n",
      "Epoch 176/200\n",
      "1080/1080 [==============================] - 1s 798us/step - loss: 0.1980 - accuracy: 0.9306 - val_loss: 0.3511 - val_accuracy: 0.8667\n",
      "Epoch 177/200\n",
      "1080/1080 [==============================] - 1s 807us/step - loss: 0.2130 - accuracy: 0.9250 - val_loss: 0.3362 - val_accuracy: 0.8583\n",
      "Epoch 178/200\n",
      "1080/1080 [==============================] - 1s 839us/step - loss: 0.2178 - accuracy: 0.9231 - val_loss: 0.4256 - val_accuracy: 0.8500\n",
      "Epoch 179/200\n",
      "1080/1080 [==============================] - 1s 979us/step - loss: 0.1929 - accuracy: 0.9389 - val_loss: 0.3407 - val_accuracy: 0.8833\n",
      "Epoch 180/200\n",
      "1080/1080 [==============================] - 1s 899us/step - loss: 0.2118 - accuracy: 0.9287 - val_loss: 0.3672 - val_accuracy: 0.8750\n",
      "Epoch 181/200\n",
      "1080/1080 [==============================] - 1s 871us/step - loss: 0.2097 - accuracy: 0.9287 - val_loss: 0.4003 - val_accuracy: 0.8417\n",
      "Epoch 182/200\n",
      "1080/1080 [==============================] - 1s 916us/step - loss: 0.1915 - accuracy: 0.9389 - val_loss: 0.4679 - val_accuracy: 0.8167\n",
      "Epoch 183/200\n",
      "1080/1080 [==============================] - 1s 847us/step - loss: 0.1881 - accuracy: 0.9361 - val_loss: 0.3835 - val_accuracy: 0.8333\n",
      "Epoch 184/200\n",
      "1080/1080 [==============================] - 1s 936us/step - loss: 0.1828 - accuracy: 0.9454 - val_loss: 0.3347 - val_accuracy: 0.8667\n",
      "Epoch 185/200\n",
      "1080/1080 [==============================] - 1s 972us/step - loss: 0.1845 - accuracy: 0.9417 - val_loss: 0.4105 - val_accuracy: 0.8583\n",
      "Epoch 186/200\n",
      "1080/1080 [==============================] - 1s 938us/step - loss: 0.2160 - accuracy: 0.9231 - val_loss: 0.3335 - val_accuracy: 0.8500\n",
      "Epoch 187/200\n",
      "1080/1080 [==============================] - 1s 1ms/step - loss: 0.2803 - accuracy: 0.9139 - val_loss: 0.4738 - val_accuracy: 0.8083\n",
      "Epoch 188/200\n",
      "1080/1080 [==============================] - 1s 937us/step - loss: 0.1945 - accuracy: 0.9389 - val_loss: 0.3458 - val_accuracy: 0.8917\n",
      "Epoch 189/200\n",
      "1080/1080 [==============================] - 1s 845us/step - loss: 0.1845 - accuracy: 0.9398 - val_loss: 0.3261 - val_accuracy: 0.8917\n",
      "Epoch 190/200\n",
      "1080/1080 [==============================] - 1s 886us/step - loss: 0.1807 - accuracy: 0.9435 - val_loss: 0.3652 - val_accuracy: 0.8583\n",
      "Epoch 191/200\n",
      "1080/1080 [==============================] - 1s 864us/step - loss: 0.1896 - accuracy: 0.9380 - val_loss: 0.3719 - val_accuracy: 0.8417\n",
      "Epoch 192/200\n",
      "1080/1080 [==============================] - 1s 1ms/step - loss: 0.2092 - accuracy: 0.9315 - val_loss: 0.3353 - val_accuracy: 0.8750\n",
      "Epoch 193/200\n",
      "1080/1080 [==============================] - 1s 922us/step - loss: 0.1756 - accuracy: 0.9472 - val_loss: 0.4571 - val_accuracy: 0.8333\n",
      "Epoch 194/200\n",
      "1080/1080 [==============================] - 1s 958us/step - loss: 0.1822 - accuracy: 0.9444 - val_loss: 0.4912 - val_accuracy: 0.7833\n",
      "Epoch 195/200\n",
      "1080/1080 [==============================] - 1s 1ms/step - loss: 0.1707 - accuracy: 0.9435 - val_loss: 0.3395 - val_accuracy: 0.8583\n",
      "Epoch 196/200\n",
      "1080/1080 [==============================] - 1s 947us/step - loss: 0.1949 - accuracy: 0.9343 - val_loss: 0.3618 - val_accuracy: 0.8417\n",
      "Epoch 197/200\n",
      "1080/1080 [==============================] - 1s 990us/step - loss: 0.1670 - accuracy: 0.9472 - val_loss: 0.3489 - val_accuracy: 0.8833\n",
      "Epoch 198/200\n",
      "1080/1080 [==============================] - 1s 1ms/step - loss: 0.1852 - accuracy: 0.9435 - val_loss: 0.3400 - val_accuracy: 0.9000\n",
      "Epoch 199/200\n",
      "1080/1080 [==============================] - 1s 931us/step - loss: 0.2147 - accuracy: 0.9250 - val_loss: 0.4483 - val_accuracy: 0.8500\n",
      "Epoch 200/200\n",
      "1080/1080 [==============================] - 1s 1ms/step - loss: 0.1972 - accuracy: 0.9380 - val_loss: 0.3378 - val_accuracy: 0.8750\n"
     ]
    },
    {
     "data": {
      "text/plain": [
       "<keras.callbacks.callbacks.History at 0x10bcce6ac88>"
      ]
     },
     "execution_count": 131,
     "metadata": {},
     "output_type": "execute_result"
    }
   ],
   "source": [
    "model.fit(X_train,y_train,epochs=200,validation_data=(X_test,y_test))"
   ]
  },
  {
   "cell_type": "code",
   "execution_count": 132,
   "metadata": {},
   "outputs": [
    {
     "name": "stdout",
     "output_type": "stream",
     "text": [
      "120/120 [==============================] - 0s 299us/step\n"
     ]
    },
    {
     "data": {
      "text/plain": [
       "[0.337842454512914, 0.875]"
      ]
     },
     "execution_count": 132,
     "metadata": {},
     "output_type": "execute_result"
    }
   ],
   "source": [
    "model.evaluate(X_test,y_test)"
   ]
  },
  {
   "cell_type": "markdown",
   "metadata": {},
   "source": [
    "<h1>My Image 1 finger</h1>"
   ]
  },
  {
   "cell_type": "code",
   "execution_count": 141,
   "metadata": {},
   "outputs": [
    {
     "data": {
      "text/plain": [
       "<matplotlib.image.AxesImage at 0x10bcd488fc8>"
      ]
     },
     "execution_count": 141,
     "metadata": {},
     "output_type": "execute_result"
    },
    {
     "data": {
      "image/png": "[encoded data removed]",
      "text/plain": [
       "<Figure size 432x288 with 1 Axes>"
      ]
     },
     "metadata": {
      "needs_background": "light"
     },
     "output_type": "display_data"
    }
   ],
   "source": [
    "image=cv.imread('1finger.jpg',1)\n",
    "plt.imshow(image)"
   ]
  },
  {
   "cell_type": "code",
   "execution_count": 148,
   "metadata": {},
   "outputs": [],
   "source": [
    "image=image.reshape(1,64,64,3)"
   ]
  },
  {
   "cell_type": "code",
   "execution_count": 149,
   "metadata": {},
   "outputs": [],
   "source": [
    "predicted = model.predict(image)"
   ]
  },
  {
   "cell_type": "code",
   "execution_count": 150,
   "metadata": {},
   "outputs": [
    {
     "name": "stdout",
     "output_type": "stream",
     "text": [
      "Predicted outcome is 1\n"
     ]
    }
   ],
   "source": [
    "print(\"Predicted outcome is {}\".format(np.argmax(predicted)))"
   ]
  }
 ],
 "metadata": {
  "kernelspec": {
   "display_name": "Python 3 (ipykernel)",
   "language": "python",
   "name": "python3"
  },
  "language_info": {
   "codemirror_mode": {
    "name": "ipython",
    "version": 3
   },
   "file_extension": ".py",
   "mimetype": "text/x-python",
   "name": "python",
   "nbconvert_exporter": "python",
   "pygments_lexer": "ipython3",
   "version": "3.8.12"
  }
 },
 "nbformat": 4,
 "nbformat_minor": 4
}
